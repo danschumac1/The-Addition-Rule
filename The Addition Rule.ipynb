{
 "cells": [
  {
   "cell_type": "markdown",
   "id": "e6ad8495",
   "metadata": {},
   "source": [
    "# The Addition Rule"
   ]
  },
  {
   "cell_type": "markdown",
   "id": "60a6a799",
   "metadata": {},
   "source": [
    "Shows the probability of 2 events in the same expirement"
   ]
  },
  {
   "cell_type": "markdown",
   "id": "7c35fc6c",
   "metadata": {},
   "source": [
    "## Formula and Variables discusion"
   ]
  },
  {
   "cell_type": "markdown",
   "id": "b0d849b6",
   "metadata": {},
   "source": [
    "pAorB: The probabilty of A or B happening"
   ]
  },
  {
   "cell_type": "markdown",
   "id": "30dcb5f9",
   "metadata": {},
   "source": [
    "pA      : The probability of A happening. "
   ]
  },
  {
   "cell_type": "markdown",
   "id": "e1762323",
   "metadata": {},
   "source": [
    "pB      : The probability of B happening. "
   ]
  },
  {
   "cell_type": "markdown",
   "id": "bd80361b",
   "metadata": {},
   "source": [
    "pAandB: The probabilty of A and B happening. The intersection of the variables"
   ]
  },
  {
   "cell_type": "markdown",
   "id": "76422d87",
   "metadata": {},
   "source": [
    "### Using those variables, this is the addition rule."
   ]
  },
  {
   "cell_type": "markdown",
   "id": "c1d5c0d5",
   "metadata": {},
   "source": [
    "pAorB = pA + pB - pAandB"
   ]
  },
  {
   "cell_type": "markdown",
   "id": "dd985c06",
   "metadata": {},
   "source": [
    "## Code"
   ]
  },
  {
   "cell_type": "code",
   "execution_count": 7,
   "id": "0744474a",
   "metadata": {},
   "outputs": [],
   "source": [
    "def find_pAorB(pA, pB, pAandB=0):\n",
    "    pAorB = pA + pB - pAandB\n",
    "    return pAorB"
   ]
  },
  {
   "cell_type": "code",
   "execution_count": 8,
   "id": "834a5745",
   "metadata": {},
   "outputs": [
    {
     "data": {
      "text/plain": [
       "0.75"
      ]
     },
     "execution_count": 8,
     "metadata": {},
     "output_type": "execute_result"
    }
   ],
   "source": [
    "find_pAorB(1/2,1/2,1/4)"
   ]
  },
  {
   "cell_type": "code",
   "execution_count": 9,
   "id": "9ab014eb",
   "metadata": {},
   "outputs": [
    {
     "data": {
      "text/plain": [
       "1.0"
      ]
     },
     "execution_count": 9,
     "metadata": {},
     "output_type": "execute_result"
    }
   ],
   "source": [
    "#by default pAandB=0\n",
    "\n",
    "find_pAorB(1/2,1/2)"
   ]
  }
 ],
 "metadata": {
  "kernelspec": {
   "display_name": "Python 3 (ipykernel)",
   "language": "python",
   "name": "python3"
  },
  "language_info": {
   "codemirror_mode": {
    "name": "ipython",
    "version": 3
   },
   "file_extension": ".py",
   "mimetype": "text/x-python",
   "name": "python",
   "nbconvert_exporter": "python",
   "pygments_lexer": "ipython3",
   "version": "3.9.12"
  }
 },
 "nbformat": 4,
 "nbformat_minor": 5
}
